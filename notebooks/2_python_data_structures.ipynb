{
 "cells": [
  {
   "cell_type": "markdown",
   "metadata": {},
   "source": [
    "# Section II. List, Ranges, Tuples and Dictionaries"
   ]
  },
  {
   "cell_type": "markdown",
   "metadata": {},
   "source": [
    "## Lists"
   ]
  },
  {
   "cell_type": "code",
   "execution_count": 3,
   "metadata": {},
   "outputs": [],
   "source": [
    "integer_list = [1, 2, 3]\n",
    "\n",
    "heterogeneous_list = ['string', 0.1, True]\n",
    "\n",
    "list_of_lists = [ integer_list, heterogeneous_list, [] ]\n",
    "\n",
    "list_length = len(integer_list) # equals 3\n",
    "\n",
    "list_sum = sum(integer_list) # equals 6"
   ]
  },
  {
   "cell_type": "markdown",
   "metadata": {},
   "source": [
    "Get the *i-th* element of a list"
   ]
  },
  {
   "cell_type": "code",
   "execution_count": 14,
   "metadata": {},
   "outputs": [],
   "source": [
    "x = [0, 1, 2, 3, 4, 5, 6, 7, 8, 9] # is the list [0, 1, ..., 9]\n",
    "\n",
    "zero = x[0] # equals 0, lists are 0-indexed\n",
    "\n",
    "one = x[1] # equals 1\n",
    "\n",
    "nine = x[-1] # equals 9, 'Pythonic' for last element\n",
    "\n",
    "eight = x[-2] # equals 8, 'Pythonic' for next-to-last element"
   ]
  },
  {
   "cell_type": "markdown",
   "metadata": {},
   "source": [
    "Get a slice of a list"
   ]
  },
  {
   "cell_type": "code",
   "execution_count": 23,
   "metadata": {},
   "outputs": [],
   "source": [
    "one_to_four = x[1:5] # [1, 2, 3, 4]\n",
    "\n",
    "first_three = x[:3] # [0, 1, 2]\n",
    "\n",
    "last_three = x[-3:] # [7, 8, 9]\n",
    "\n",
    "three_to_end = x[3:] # [3, 4, ..., 9]\n",
    "\n",
    "without_first_and_last = x[1:-1] # [1, 2, ..., 8]\n",
    "\n",
    "copy_of_x = x[:] # [0, 1, 2, ..., 9]\n",
    "\n",
    "another_copy_of_x = x[:3] + x[3:] # [0, 1, 2, ..., 9]\n",
    "\n",
    "all_odd_numbers = x[1::2]"
   ]
  },
  {
   "cell_type": "markdown",
   "metadata": {},
   "source": [
    "Modify content of list"
   ]
  },
  {
   "cell_type": "code",
   "execution_count": null,
   "metadata": {},
   "outputs": [],
   "source": [
    "x = [0, 1, 2, 3, 4, 5, 6, 7, 8] \n",
    "\n",
    "x[2] = x[2] * 2     # x is [0, 1, 4, 3, 4, 5, 6, 7, 8] \n",
    "\n",
    "x[-1] = 0           # x is [0, 1, 4, 3, 4, 5, 6, 7, 0]\n",
    "\n",
    "x[3:5] = x[3:5] * 3 # x is [0, 1, 4, 9, 12, 5, 6, 7, 0]\n",
    "\n",
    "x[5:6] = []         # x is [0, 1, 4, 9, 12, 7, 0]\n",
    "\n",
    "del x[:2]           # x is [4, 9, 12, 7, 0] \n",
    "\n",
    "del x[:]            # x is [] \n",
    "\n",
    "del x               # referencing to x hereafter is a NameError"
   ]
  },
  {
   "cell_type": "markdown",
   "metadata": {},
   "source": [
    "**Strings** can also be sliced. But they cannot modified (they are *immutable*)"
   ]
  },
  {
   "cell_type": "code",
   "execution_count": 29,
   "metadata": {},
   "outputs": [],
   "source": [
    "s = 'abcdefg'\n",
    "a = s[0]         # 'a'\n",
    "x = s[:2]        # 'ab'\n",
    "y = s[-3:]       # 'efg'\n",
    "s = 'AB' + s[2:] # str is now ABcdefg"
   ]
  },
  {
   "cell_type": "code",
   "execution_count": null,
   "metadata": {},
   "outputs": [],
   "source": [
    "s[:2] = 'AB'     # this will cause an error"
   ]
  },
  {
   "cell_type": "markdown",
   "metadata": {},
   "source": [
    "You can use the *range()* function to generate a list containing sequence of numbers"
   ]
  },
  {
   "cell_type": "code",
   "execution_count": 31,
   "metadata": {},
   "outputs": [],
   "source": [
    "r = range(5)         # [0, 1, 2, 3, 4]\n",
    "\n",
    "r = range(2, 5)      # [2, 3, 4]\n",
    "\n",
    "r = range(0, 10, 2)  # [0, 2, 4, 6, 8]\n",
    "\n",
    "r = range(10, 2, -2)  # [10, 8, 6, 4]"
   ]
  },
  {
   "cell_type": "markdown",
   "metadata": {},
   "source": [
    "### Exercise 2.1\n",
    "\n",
    "Create a list called *numbers* containing the values from 1 through 15, then use the *slices* to perform the following operations consecutively:\n",
    "\n",
    "    a. Select *number*'s even integers\n",
    "    b. Replace the elements at indices 5 through 9 with 0s, then show the resulting list.\n",
    "    c. Keep only the first five elements, then show the resulting list.\n",
    "    d. Delete all the remaining elements by assigning to a slice. Show the resulting list."
   ]
  },
  {
   "cell_type": "code",
   "execution_count": 20,
   "metadata": {},
   "outputs": [],
   "source": [
    "# Answer here"
   ]
  },
  {
   "cell_type": "markdown",
   "metadata": {},
   "source": [
    "Check for memberships"
   ]
  },
  {
   "cell_type": "code",
   "execution_count": null,
   "metadata": {},
   "outputs": [],
   "source": [
    "1 in [1, 2, 3] # True\n",
    "0 in [1, 2, 3] # False"
   ]
  },
  {
   "cell_type": "markdown",
   "metadata": {},
   "source": [
    "Concatenate lists"
   ]
  },
  {
   "cell_type": "code",
   "execution_count": 22,
   "metadata": {},
   "outputs": [],
   "source": [
    "x = [1, 2, 3]\n",
    "y = [4, 5, 6]\n",
    "x.extend(y) # x is now [1,2,3,4,5,6]\n",
    "\n",
    "x = [1, 2, 3]\n",
    "y = [4, 5, 6]\n",
    "z = x + y  # z is [1,2,3,4,5,6]; x is unchanged."
   ]
  },
  {
   "cell_type": "markdown",
   "metadata": {},
   "source": [
    "List unpacking (multiple assignment)"
   ]
  },
  {
   "cell_type": "code",
   "execution_count": 24,
   "metadata": {},
   "outputs": [],
   "source": [
    "x, y = [1, 2] # x is 1 and y is 2\n",
    "\n",
    "[x, y] = 1, 2 # same as above\n",
    "\n",
    "x, y = [1, 2] # same as above\n",
    "\n",
    "x, y = 1, 2   # same as above\n",
    "\n",
    "_, y = [1, 2] # y is 2, didn't care about the first element"
   ]
  },
  {
   "cell_type": "markdown",
   "metadata": {},
   "source": [
    "### Exercise 2.2 (Asssignment)\n",
    "\n",
    "Create a list called *rainbow* containing 'green', 'orange' and 'violet'. Perform the following operations consecutively using list methods and show the list's content after each operation:\n",
    "\n",
    "    a. Determine the index of 'violet' then use it to insert 'red' before 'violet'. \n",
    "       Hint: use rainbow.insert() and rainbow.index() methods\n",
    "       \n",
    "    b. Append 'yellow' to the end of the list. Hint: use rainbow.append() method.\n",
    "    \n",
    "    c. Reverse the list's elements. Hint: use rainbow.reverse()\n",
    "    \n",
    "    d. Remove the element 'orange'. Hint: use rainbow.remove()"
   ]
  },
  {
   "cell_type": "markdown",
   "metadata": {},
   "source": [
    "## Tuples\n",
    "\n",
    "Similar to lists, but are immutable"
   ]
  },
  {
   "cell_type": "code",
   "execution_count": 33,
   "metadata": {},
   "outputs": [],
   "source": [
    "a_tuple = (0, 1, 2, 3, 4)\n",
    "\n",
    "other_tuple = 3, 4\n",
    "\n",
    "another_tuple = tuple([0, 1, 2, 3, 4])\n",
    "\n",
    "hetergeneous_tuple = ('john', 1.1, [1, 2])"
   ]
  },
  {
   "cell_type": "markdown",
   "metadata": {},
   "source": [
    "Can be sliced, concatenated, or repeated"
   ]
  },
  {
   "cell_type": "code",
   "execution_count": null,
   "metadata": {},
   "outputs": [],
   "source": [
    "a_tuple[2:4]    # will print (2, 3)"
   ]
  },
  {
   "cell_type": "markdown",
   "metadata": {},
   "source": [
    "Cannot be modified"
   ]
  },
  {
   "cell_type": "code",
   "execution_count": null,
   "metadata": {},
   "outputs": [],
   "source": [
    "a_tuple[2] = 5 # Will generate error"
   ]
  },
  {
   "cell_type": "markdown",
   "metadata": {},
   "source": [
    "## Exercise 2.3\n",
    "\n",
    "Create a single-element tuple containing 123.45, then display it."
   ]
  },
  {
   "cell_type": "code",
   "execution_count": 38,
   "metadata": {},
   "outputs": [],
   "source": [
    "# Answer here"
   ]
  },
  {
   "attachments": {},
   "cell_type": "markdown",
   "metadata": {},
   "source": [
    "## Dictionaries\n",
    "\n",
    "A dictionary associates values with unique keys"
   ]
  },
  {
   "cell_type": "code",
   "execution_count": 45,
   "metadata": {},
   "outputs": [],
   "source": [
    "empty_dict = {}                         # Pythonic\n",
    "empty_dict2 = dict()                    # less Pythonic \n",
    "\n",
    "grades = { # dictionary literal \n",
    "    'Joel' : 80, \n",
    "    'Tim' : 95 \n",
    "}"
   ]
  },
  {
   "cell_type": "markdown",
   "metadata": {},
   "source": [
    "Access/modify value with key"
   ]
  },
  {
   "cell_type": "code",
   "execution_count": 42,
   "metadata": {},
   "outputs": [],
   "source": [
    "joels_grade = grades['Joel']          # equals 80 \n",
    "\n",
    "grades['Tim'] = 99                    # replaces the old value \n",
    "\n",
    "grades['Kate'] = 100                  # adds a third entry \n",
    "\n",
    "num_students = len(grades)            # equals 3 "
   ]
  },
  {
   "cell_type": "markdown",
   "metadata": {},
   "source": [
    "Check for existense of key"
   ]
  },
  {
   "cell_type": "code",
   "execution_count": 50,
   "metadata": {},
   "outputs": [],
   "source": [
    "joel_has_grade = \"Joel\" in grades     # True \n",
    "kate_has_grade = \"Kate\" in grades     # False "
   ]
  },
  {
   "cell_type": "markdown",
   "metadata": {},
   "source": [
    "Use “get” to avoid keyError and add default value"
   ]
  },
  {
   "cell_type": "code",
   "execution_count": null,
   "metadata": {},
   "outputs": [],
   "source": [
    "joels_grade = grades.get(\"Joel\", 0)   # equals 80 \n",
    "kates_grade = grades.get(\"Kate\", 0)   # equals 0 \n",
    "no_ones_grade = grades.get(\"No One\")  # default default is None "
   ]
  },
  {
   "cell_type": "markdown",
   "metadata": {},
   "source": [
    "Get all items"
   ]
  },
  {
   "cell_type": "code",
   "execution_count": 51,
   "metadata": {},
   "outputs": [],
   "source": [
    "all_keys = grades.keys()     # return a list of all keys\n",
    "all_values = grades.values() # return a list of all values\n",
    "all_pairs = grades.items()   # a list of (key, value) tuples"
   ]
  },
  {
   "cell_type": "markdown",
   "metadata": {},
   "source": [
    "### Exercise 2.3\n",
    "\n",
    "For the following dictionary, create lists of its keys, values and items and show the contents of those lists.\n",
    "\n",
    "    roman_numerals = {'I': 1, 'II': 2, 'III': 3, 'V': 5}"
   ]
  },
  {
   "cell_type": "code",
   "execution_count": 52,
   "metadata": {},
   "outputs": [],
   "source": [
    "# Answer here"
   ]
  }
 ],
 "metadata": {
  "kernelspec": {
   "display_name": "Python 3",
   "language": "python",
   "name": "python3"
  },
  "language_info": {
   "codemirror_mode": {
    "name": "ipython",
    "version": 3
   },
   "file_extension": ".py",
   "mimetype": "text/x-python",
   "name": "python",
   "nbconvert_exporter": "python",
   "pygments_lexer": "ipython3",
   "version": "3.7.4"
  }
 },
 "nbformat": 4,
 "nbformat_minor": 2
}
