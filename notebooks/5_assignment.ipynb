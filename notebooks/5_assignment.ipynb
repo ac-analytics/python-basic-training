{
 "cells": [
  {
   "cell_type": "markdown",
   "metadata": {},
   "source": [
    "# Assignment: \n",
    "Due Tuesday, Mar 16, 2021"
   ]
  },
  {
   "cell_type": "markdown",
   "metadata": {},
   "source": [
    "### Exercise 1\n",
    "\n",
    "Create a list called *rainbow* containing 'green', 'orange' and 'violet'. Perform the following operations consecutively using list methods and show the list's content after each operation:\n",
    "\n",
    "    a. Determine the index of 'violet' then use it to insert 'red' before 'violet'. \n",
    "       Hint: use rainbow.insert() and rainbow.index() methods\n",
    "       \n",
    "    b. Append 'yellow' to the end of the list. Hint: use rainbow.append() method.\n",
    "    \n",
    "    c. Reverse the list's elements. Hint: use rainbow.reverse()\n",
    "    \n",
    "    d. Remove the element 'orange'. Hint: use rainbow.remove()"
   ]
  },
  {
   "cell_type": "code",
   "execution_count": 1,
   "metadata": {},
   "outputs": [],
   "source": [
    "# Write your answers here"
   ]
  },
  {
   "cell_type": "markdown",
   "metadata": {},
   "source": [
    "### Exercise 2\n",
    "\n",
    "Write the code to determine the first power of 7 greater than 1000"
   ]
  },
  {
   "cell_type": "code",
   "execution_count": 2,
   "metadata": {},
   "outputs": [],
   "source": [
    "# Write your answers here"
   ]
  },
  {
   "cell_type": "markdown",
   "metadata": {},
   "source": [
    "### Exercise 3\n",
    "Use the *range* function and *for* statement to calcluate the total of the integers from 0 through 1,000,000."
   ]
  },
  {
   "cell_type": "code",
   "execution_count": 4,
   "metadata": {},
   "outputs": [],
   "source": [
    "# Write your answers here"
   ]
  },
  {
   "cell_type": "markdown",
   "metadata": {},
   "source": [
    "### Exercise 4\n",
    "\n",
    "Map a list of the three Farenheit temparatures 41, 32, 212 to a list of tuples containing the Fahrenheit temparatures and their Celsius equivalents. Convert Ferenheit temperatures to Celcius tiwht the following forumla:\n",
    "\n",
    "    Celcsius = (Farenheit - 32) * (5/9)"
   ]
  },
  {
   "cell_type": "code",
   "execution_count": 5,
   "metadata": {},
   "outputs": [],
   "source": [
    "# Write your answers here"
   ]
  },
  {
   "cell_type": "markdown",
   "metadata": {},
   "source": [
    "### Bonus:\n",
    "\n",
    "Write a code that will print the 10,000th prime number.\n",
    "\n",
    "A prime number is number greater than 1 that is not a product of two smaller numbers greater than 1.\n",
    "\n",
    "Examples: \n",
    "5 is the third prime number, it can only be a product of 1 and 5.\n",
    "6 is not a prime, it is the product of 2 and 3, both smaller numbers than 6 and greater than 1."
   ]
  },
  {
   "cell_type": "code",
   "execution_count": 14,
   "metadata": {},
   "outputs": [],
   "source": [
    "# Write your answers here"
   ]
  }
 ],
 "metadata": {
  "kernelspec": {
   "display_name": "Python 3",
   "language": "python",
   "name": "python3"
  },
  "language_info": {
   "codemirror_mode": {
    "name": "ipython",
    "version": 3
   },
   "file_extension": ".py",
   "mimetype": "text/x-python",
   "name": "python",
   "nbconvert_exporter": "python",
   "pygments_lexer": "ipython3",
   "version": "3.7.4"
  }
 },
 "nbformat": 4,
 "nbformat_minor": 2
}
